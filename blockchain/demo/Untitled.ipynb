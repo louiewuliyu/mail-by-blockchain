{
 "cells": [
  {
   "cell_type": "code",
   "execution_count": 4,
   "metadata": {},
   "outputs": [],
   "source": [
    "# -*- coding: utf-8 -*-\n",
    "import os\n",
    "import numpy as np\n",
    "from collections import Counter\n",
    "from sklearn.naive_bayes import MultinomialNB\n",
    "from sklearn.svm import LinearSVC\n",
    "from sklearn.metrics import confusion_matrix\n",
    "\n",
    "import copy\n",
    "import pandas as pd\n",
    "\n",
    "#prepare extract object\n",
    "#training\n",
    "def make_Dictionary(train_dir):\n",
    "    emails = [os.path.join(train_dir,f) for f in os.listdir(train_dir)]    \n",
    "    all_words = []       \n",
    "    for mail in emails:    \n",
    "        with open(mail) as m:\n",
    "            for i,line in enumerate(m):\n",
    "                if i == 2:\n",
    "                    words = line.split()\n",
    "                    all_words += words\n",
    "    \n",
    "    dictionary = Counter(all_words)\n",
    "    \n",
    "    list_to_remove = list(dictionary.keys())\n",
    "    for item in list_to_remove:\n",
    "        if item.isalpha() == False: \n",
    "            del dictionary[item]\n",
    "        elif len(item) == 1:\n",
    "            del dictionary[item]\n",
    "    dictionary = dictionary.most_common(3000)\n",
    "    return dictionary\n",
    "\n",
    "#email features    \n",
    "def extract_features(mail_dir, dictionary): \n",
    "    files = [os.path.join(mail_dir,fi) for fi in os.listdir(mail_dir)]\n",
    "    features_matrix = np.zeros((len(files),3000))\n",
    "    docID = 0;\n",
    "    for fil in files:\n",
    "      with open(fil) as fi:\n",
    "        for i,line in enumerate(fi):\n",
    "          if i == 2:\n",
    "            words = line.split()\n",
    "            for word in words:\n",
    "              wordID = 0\n",
    "              for i,d in enumerate(dictionary):\n",
    "                if d[0] == word:\n",
    "                  wordID = i\n",
    "                  features_matrix[docID,wordID] = words.count(word)\n",
    "        docID = docID + 1     \n",
    "    return features_matrix\n",
    "\n",
    "\n",
    "def extract_test_email_features(mail_dir, dictionary):\n",
    "    features_matrix = np.zeros((1, 3000))\n",
    "    docID = 0;\n",
    "    '''\n",
    "    words = mail_dir.split()\n",
    "    for word in words:\n",
    "        wordID = 0\n",
    "        for i, d in enumerate(dictionary):\n",
    "            if d[0] == word:\n",
    "                wordID = i\n",
    "                features_matrix[docID, wordID] = words.count(word)\n",
    "    '''\n",
    "    words = []\n",
    "    for string in mail_dir:\n",
    "        words += string.split()\n",
    "\n",
    "    for word in words:\n",
    "        wordID = 0\n",
    "        for i, d in enumerate(dictionary):\n",
    "            if d[0] == word:\n",
    "                wordID = i\n",
    "                features_matrix[docID, wordID] = words.count(word)\n",
    "\n",
    "    return features_matrix\n",
    "\n",
    "        \n",
    "\n",
    "def train(train_dir = None):\n",
    "    train_dir = 'ling-spam\\\\train-mails'\n",
    "    dictionary = make_Dictionary(train_dir)\n",
    "\n",
    "    # Prepare feature vectors per training mail and its labels\n",
    "    train_labels = np.zeros(702)\n",
    "    train_labels[351:701] = 1\n",
    "    train_matrix = extract_features(train_dir, dictionary)\n",
    "    #use navie bayes model\n",
    "    model = MultinomialNB()\n",
    "    model.fit(train_matrix, train_labels)\n",
    "\n",
    "    return model, dictionary, train_matrix   \n",
    "\n",
    "#test the mail for spam\n",
    "def judge(test_dir, model, dictionary):\n",
    "    test_matrix = extract_test_email_features(test_dir, dictionary)\n",
    "    #test_label = np.zeros(1)\n",
    "    result = model.predict(test_matrix)\n",
    "    #result_matrix = confusion_matrix(test_label, result)\n",
    "    return result\n",
    "\n",
    "model, dictionary, feature = train()"
   ]
  },
  {
   "cell_type": "code",
   "execution_count": 10,
   "metadata": {},
   "outputs": [
    {
     "name": "stdout",
     "output_type": "stream",
     "text": [
      "[[0. 0. 0. ... 0. 0. 0.]\n",
      " [0. 0. 0. ... 0. 0. 0.]\n",
      " [0. 0. 0. ... 0. 0. 0.]\n",
      " ...\n",
      " [0. 0. 0. ... 0. 0. 0.]\n",
      " [0. 0. 0. ... 0. 0. 0.]\n",
      " [0. 1. 0. ... 0. 0. 0.]]\n",
      "[[0. 0. 0. ... 0. 0. 0.]\n",
      " [0. 0. 0. ... 0. 0. 0.]\n",
      " [0. 0. 0. ... 0. 0. 0.]\n",
      " ...\n",
      " [0. 0. 0. ... 0. 0. 0.]\n",
      " [0. 0. 0. ... 0. 0. 0.]\n",
      " [0. 1. 0. ... 0. 0. 0.]]\n"
     ]
    }
   ],
   "source": [
    "print(feature)\n",
    "df = pd.DataFrame(feature)\n",
    "df.to_csv('feature_result.csv', header = None, index = None)\n",
    "print(df.values)"
   ]
  },
  {
   "cell_type": "code",
   "execution_count": 11,
   "metadata": {},
   "outputs": [
    {
     "name": "stdout",
     "output_type": "stream",
     "text": [
      "<class 'numpy.float64'>\n"
     ]
    }
   ],
   "source": [
    "print(type(feature[1][1]))"
   ]
  },
  {
   "cell_type": "code",
   "execution_count": 12,
   "metadata": {},
   "outputs": [
    {
     "name": "stdout",
     "output_type": "stream",
     "text": [
      "<class 'numpy.float64'>\n"
     ]
    }
   ],
   "source": [
    "print(type(df.values[1][1]))"
   ]
  },
  {
   "cell_type": "code",
   "execution_count": 21,
   "metadata": {},
   "outputs": [
    {
     "name": "stdout",
     "output_type": "stream",
     "text": [
      "<class 'numpy.ndarray'>\n"
     ]
    }
   ],
   "source": [
    "temp = pd.read_csv('feature_result.csv', header = None)\n",
    "print(type(temp.values[0]))"
   ]
  },
  {
   "cell_type": "code",
   "execution_count": 24,
   "metadata": {},
   "outputs": [
    {
     "name": "stdout",
     "output_type": "stream",
     "text": [
      "[[0. 0. 0. ... 0. 0. 0.]\n",
      " [0. 0. 0. ... 0. 0. 0.]\n",
      " [0. 0. 0. ... 0. 0. 0.]\n",
      " ...\n",
      " [0. 0. 0. ... 0. 0. 0.]\n",
      " [0. 0. 0. ... 0. 0. 0.]\n",
      " [0. 1. 0. ... 0. 0. 0.]]\n",
      "<class 'numpy.float64'>\n"
     ]
    }
   ],
   "source": [
    "print(temp.values)\n",
    "print(type(temp.values[1][1]))"
   ]
  },
  {
   "cell_type": "code",
   "execution_count": null,
   "metadata": {},
   "outputs": [],
   "source": []
  }
 ],
 "metadata": {
  "kernelspec": {
   "display_name": "Python 3",
   "language": "python",
   "name": "python3"
  },
  "language_info": {
   "codemirror_mode": {
    "name": "ipython",
    "version": 3
   },
   "file_extension": ".py",
   "mimetype": "text/x-python",
   "name": "python",
   "nbconvert_exporter": "python",
   "pygments_lexer": "ipython3",
   "version": "3.6.5"
  }
 },
 "nbformat": 4,
 "nbformat_minor": 2
}
