{
 "cells": [
  {
   "cell_type": "markdown",
   "metadata": {},
   "source": [
    "# Usage example for MultiSig-core accounts"
   ]
  },
  {
   "cell_type": "markdown",
   "metadata": {},
   "source": [
    "Create an account and a spending transaction"
   ]
  },
  {
   "cell_type": "code",
   "execution_count": 2,
   "metadata": {},
   "outputs": [
    {
     "name": "stdout",
     "output_type": "stream",
     "text": [
      "mrwTaLGEyikp3cum5CELD5sCzrwnDqMyRN\n",
      "Version:  1  tx hash c2bc74c0a7438231c16ee621f8b7e343cea752ce7e15aa4ad0c6c863a3b29aee  119 bytes   \n",
      "TxIn count: 1; TxOut count: 2\n",
      "Lock time: 0 (valid anytime)\n",
      "Input:\n",
      "  0: mrwTaLGEyikp3cum5CELD5sCzrwnDqMyRN from a35ad7e294ac07e1b4e848ec8f0c9a15b4dcd6e4516072186686159be7649535:0      1.00000 mBTC  BAD SIG\n",
      "Outputs:\n",
      "  0: mvccWwntgfQaj7TVYEw2C2avymxHwjixDz receives      0.01000 mBTC\n",
      "  1: mxQTvWWBLv6f1LScNcFHrdpMTijKGHQmmz receives      0.98000 mBTC\n",
      "Total input       1.00000 mBTC\n",
      "Total output      0.99000 mBTC\n",
      "Total fees        0.01000 mBTC\n",
      "Version:  1  tx hash 834a6a104c10cbf9e23d1f05d75001be5206b1119c6e9ae983e4173368ca128c  225 bytes   \n",
      "TxIn count: 1; TxOut count: 2\n",
      "Lock time: 0 (valid anytime)\n",
      "Input:\n",
      "  0: mrwTaLGEyikp3cum5CELD5sCzrwnDqMyRN from a35ad7e294ac07e1b4e848ec8f0c9a15b4dcd6e4516072186686159be7649535:0      1.00000 mBTC  sig ok\n",
      "Outputs:\n",
      "  0: mvccWwntgfQaj7TVYEw2C2avymxHwjixDz receives      0.01000 mBTC\n",
      "  1: mxQTvWWBLv6f1LScNcFHrdpMTijKGHQmmz receives      0.98000 mBTC\n",
      "Total input       1.00000 mBTC\n",
      "Total output      0.99000 mBTC\n",
      "Total fees        0.01000 mBTC\n",
      "0100000001359564e79b15866618726051e4d6dcb4159a0c8fec48e8b4e107ac94e2d75aa3000000006a47304402206320a277970b6ebe7accc3f6c21df8150660be9c0a522acb158f83bcd9112cad022011db78355ad42b8c69e128fe0604e4c7ee0b7bd8aa30d029d575f54ac11e343301210317e1b4c1018b1cd550d8bc902807af3deae5c0e4b2574039e886862151b5e97fffffffff02e8030000000000001976a914a59bdf76d718523f5776454954d187b24f7b2c3588acd07e0100000000001976a914b93ff591a34cff3e4540b9fee08269ccce3c54ec88ac00000000\n"
     ]
    }
   ],
   "source": [
    "from multisigcore.hierarchy import *\n",
    "from pycoin.key.BIP32Node import BIP32Node\n",
    "from pycoin.services import insight\n",
    "from pycoin.scripts.tx import dump_tx\n",
    "from pycoin.tx.script.tools import *\n",
    "\n",
    "secrets = [b'aaa2', b'bbb2']\n",
    "keys = [BIP32Node.from_master_secret(x, netcode='XTN') for x in secrets]\n",
    "a = SimpleAccount(keys[0])\n",
    "a.set_lookahead(1)\n",
    "a._provider = insight.InsightService('https://test-insight.bitpay.com/')\n",
    "print(a.current_address())\n",
    "tx = a.tx([('mvccWwntgfQaj7TVYEw2C2avymxHwjixDz', 1000)])\n",
    "dump_tx(tx, netcode='XTN')\n",
    "a.sign_tx(tx)\n",
    "dump_tx(tx, netcode='XTN')\n",
    "print(tx.as_hex())"
   ]
  }
 ],
 "metadata": {
  "kernelspec": {
   "display_name": "Python 2",
   "language": "python",
   "name": "python2"
  },
  "language_info": {
   "codemirror_mode": {
    "name": "ipython",
    "version": 2.0
   },
   "file_extension": ".py",
   "mimetype": "text/x-python",
   "name": "python",
   "nbconvert_exporter": "python",
   "pygments_lexer": "ipython2",
   "version": "2.7.8"
  }
 },
 "nbformat": 4,
 "nbformat_minor": 0
}